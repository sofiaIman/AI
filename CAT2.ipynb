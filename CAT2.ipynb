{
  "nbformat": 4,
  "nbformat_minor": 0,
  "metadata": {
    "colab": {
      "name": "CAT2.ipynb",
      "provenance": [],
      "collapsed_sections": [],
      "include_colab_link": true
    },
    "kernelspec": {
      "display_name": "Python 3",
      "name": "python3"
    }
  },
  "cells": [
    {
      "cell_type": "markdown",
      "metadata": {
        "id": "view-in-github",
        "colab_type": "text"
      },
      "source": [
        "<a href=\"https://colab.research.google.com/github/sofiaIman/AI/blob/main/CAT2.ipynb\" target=\"_parent\"><img src=\"https://colab.research.google.com/assets/colab-badge.svg\" alt=\"Open In Colab\"/></a>"
      ]
    },
    {
      "cell_type": "markdown",
      "metadata": {
        "id": "r4qRa87bwJ81"
      },
      "source": [
        "**Decision trees, 2O newgroups dataset**"
      ]
    },
    {
      "cell_type": "markdown",
      "metadata": {
        "id": "4LDWih7kfYe6"
      },
      "source": [
        "\r\n",
        "# Importing the required libraries \r\n"
      ]
    },
    {
      "cell_type": "code",
      "metadata": {
        "id": "FTFsKLPheIhd"
      },
      "source": [
        "import pandas as pd\r\n",
        "import numpy as np\r\n",
        "import matplotlib.pyplot as plt\r\n",
        "%matplotlib inline\r\n",
        "from sklearn.metrics import confusion_matrix,f1_score,accuracy_score,precision_score,recall_score\r\n",
        "from sklearn.datasets import fetch_20newsgroups\r\n",
        "from pprint import pprint\r\n",
        "from sklearn.tree import DecisionTreeRegressor\r\n",
        "from sklearn.ensemble import RandomForestRegressor\r\n",
        "from sklearn.model_selection import train_test_split\r\n",
        "from sklearn.tree import DecisionTreeClassifier\r\n",
        "from sklearn import preprocessing\r\n",
        "from sklearn.metrics import classification_report, confusion_matrix\r\n",
        "\r\n",
        "  "
      ],
      "execution_count": null,
      "outputs": []
    },
    {
      "cell_type": "markdown",
      "metadata": {
        "id": "4m0ttiCXgo38"
      },
      "source": [
        "# Grabbing the dataset"
      ]
    },
    {
      "cell_type": "code",
      "metadata": {
        "id": "FRdKoAvdgq8A"
      },
      "source": [
        "newsgroups_train=fetch_20newsgroups(subset='train')"
      ],
      "execution_count": null,
      "outputs": []
    },
    {
      "cell_type": "markdown",
      "metadata": {
        "id": "8RjTTjBvkDSh"
      },
      "source": [
        "# Viewing the dataset"
      ]
    },
    {
      "cell_type": "code",
      "metadata": {
        "id": "t_-BrfUokIgS",
        "colab": {
          "base_uri": "https://localhost:8080/"
        },
        "outputId": "c3bf82e5-b9c1-4c84-9415-976148b4fbb1"
      },
      "source": [
        "pprint(list(newsgroups_train.target_names))"
      ],
      "execution_count": null,
      "outputs": [
        {
          "output_type": "stream",
          "text": [
            "['alt.atheism',\n",
            " 'comp.graphics',\n",
            " 'comp.os.ms-windows.misc',\n",
            " 'comp.sys.ibm.pc.hardware',\n",
            " 'comp.sys.mac.hardware',\n",
            " 'comp.windows.x',\n",
            " 'misc.forsale',\n",
            " 'rec.autos',\n",
            " 'rec.motorcycles',\n",
            " 'rec.sport.baseball',\n",
            " 'rec.sport.hockey',\n",
            " 'sci.crypt',\n",
            " 'sci.electronics',\n",
            " 'sci.med',\n",
            " 'sci.space',\n",
            " 'soc.religion.christian',\n",
            " 'talk.politics.guns',\n",
            " 'talk.politics.mideast',\n",
            " 'talk.politics.misc',\n",
            " 'talk.religion.misc']\n"
          ],
          "name": "stdout"
        }
      ]
    },
    {
      "cell_type": "markdown",
      "metadata": {
        "id": "oINPCn7S-8uH"
      },
      "source": [
        "converting to dataframes"
      ]
    },
    {
      "cell_type": "code",
      "metadata": {
        "id": "kZRViVvt_C61",
        "colab": {
          "base_uri": "https://localhost:8080/",
          "height": 202
        },
        "outputId": "9103d0f4-14c7-4ad5-d9fd-ebe303081550"
      },
      "source": [
        "\r\n",
        "df = pd.DataFrame([newsgroups_train.data, newsgroups_train.target.tolist()]).T\r\n",
        "df.columns = ['text', 'target']\r\n",
        "\r\n",
        "targets = pd.DataFrame( newsgroups_train.target_names)\r\n",
        "targets.columns=['title']\r\n",
        "df.head()"
      ],
      "execution_count": null,
      "outputs": [
        {
          "output_type": "execute_result",
          "data": {
            "text/html": [
              "<div>\n",
              "<style scoped>\n",
              "    .dataframe tbody tr th:only-of-type {\n",
              "        vertical-align: middle;\n",
              "    }\n",
              "\n",
              "    .dataframe tbody tr th {\n",
              "        vertical-align: top;\n",
              "    }\n",
              "\n",
              "    .dataframe thead th {\n",
              "        text-align: right;\n",
              "    }\n",
              "</style>\n",
              "<table border=\"1\" class=\"dataframe\">\n",
              "  <thead>\n",
              "    <tr style=\"text-align: right;\">\n",
              "      <th></th>\n",
              "      <th>text</th>\n",
              "      <th>target</th>\n",
              "    </tr>\n",
              "  </thead>\n",
              "  <tbody>\n",
              "    <tr>\n",
              "      <th>0</th>\n",
              "      <td>From: lerxst@wam.umd.edu (where's my thing)\\nS...</td>\n",
              "      <td>7</td>\n",
              "    </tr>\n",
              "    <tr>\n",
              "      <th>1</th>\n",
              "      <td>From: guykuo@carson.u.washington.edu (Guy Kuo)...</td>\n",
              "      <td>4</td>\n",
              "    </tr>\n",
              "    <tr>\n",
              "      <th>2</th>\n",
              "      <td>From: twillis@ec.ecn.purdue.edu (Thomas E Will...</td>\n",
              "      <td>4</td>\n",
              "    </tr>\n",
              "    <tr>\n",
              "      <th>3</th>\n",
              "      <td>From: jgreen@amber (Joe Green)\\nSubject: Re: W...</td>\n",
              "      <td>1</td>\n",
              "    </tr>\n",
              "    <tr>\n",
              "      <th>4</th>\n",
              "      <td>From: jcm@head-cfa.harvard.edu (Jonathan McDow...</td>\n",
              "      <td>14</td>\n",
              "    </tr>\n",
              "  </tbody>\n",
              "</table>\n",
              "</div>"
            ],
            "text/plain": [
              "                                                text target\n",
              "0  From: lerxst@wam.umd.edu (where's my thing)\\nS...      7\n",
              "1  From: guykuo@carson.u.washington.edu (Guy Kuo)...      4\n",
              "2  From: twillis@ec.ecn.purdue.edu (Thomas E Will...      4\n",
              "3  From: jgreen@amber (Joe Green)\\nSubject: Re: W...      1\n",
              "4  From: jcm@head-cfa.harvard.edu (Jonathan McDow...     14"
            ]
          },
          "metadata": {
            "tags": []
          },
          "execution_count": 268
        }
      ]
    },
    {
      "cell_type": "markdown",
      "metadata": {
        "id": "vToERd0NhWdj"
      },
      "source": [
        "## **DATA** **ANALYSIS**"
      ]
    },
    {
      "cell_type": "code",
      "metadata": {
        "colab": {
          "base_uri": "https://localhost:8080/"
        },
        "id": "4quygCYqgg3e",
        "outputId": "860e6b00-4023-4ac4-9771-433bbab42906"
      },
      "source": [
        "df.shape"
      ],
      "execution_count": null,
      "outputs": [
        {
          "output_type": "execute_result",
          "data": {
            "text/plain": [
              "(11314, 2)"
            ]
          },
          "metadata": {
            "tags": []
          },
          "execution_count": 269
        }
      ]
    },
    {
      "cell_type": "code",
      "metadata": {
        "colab": {
          "base_uri": "https://localhost:8080/",
          "height": 202
        },
        "id": "IRv_mvTChOqi",
        "outputId": "89a23a3e-c74b-4d46-91b3-1c2ec8d8e38a"
      },
      "source": [
        "df.head()"
      ],
      "execution_count": null,
      "outputs": [
        {
          "output_type": "execute_result",
          "data": {
            "text/html": [
              "<div>\n",
              "<style scoped>\n",
              "    .dataframe tbody tr th:only-of-type {\n",
              "        vertical-align: middle;\n",
              "    }\n",
              "\n",
              "    .dataframe tbody tr th {\n",
              "        vertical-align: top;\n",
              "    }\n",
              "\n",
              "    .dataframe thead th {\n",
              "        text-align: right;\n",
              "    }\n",
              "</style>\n",
              "<table border=\"1\" class=\"dataframe\">\n",
              "  <thead>\n",
              "    <tr style=\"text-align: right;\">\n",
              "      <th></th>\n",
              "      <th>text</th>\n",
              "      <th>target</th>\n",
              "    </tr>\n",
              "  </thead>\n",
              "  <tbody>\n",
              "    <tr>\n",
              "      <th>0</th>\n",
              "      <td>From: lerxst@wam.umd.edu (where's my thing)\\nS...</td>\n",
              "      <td>7</td>\n",
              "    </tr>\n",
              "    <tr>\n",
              "      <th>1</th>\n",
              "      <td>From: guykuo@carson.u.washington.edu (Guy Kuo)...</td>\n",
              "      <td>4</td>\n",
              "    </tr>\n",
              "    <tr>\n",
              "      <th>2</th>\n",
              "      <td>From: twillis@ec.ecn.purdue.edu (Thomas E Will...</td>\n",
              "      <td>4</td>\n",
              "    </tr>\n",
              "    <tr>\n",
              "      <th>3</th>\n",
              "      <td>From: jgreen@amber (Joe Green)\\nSubject: Re: W...</td>\n",
              "      <td>1</td>\n",
              "    </tr>\n",
              "    <tr>\n",
              "      <th>4</th>\n",
              "      <td>From: jcm@head-cfa.harvard.edu (Jonathan McDow...</td>\n",
              "      <td>14</td>\n",
              "    </tr>\n",
              "  </tbody>\n",
              "</table>\n",
              "</div>"
            ],
            "text/plain": [
              "                                                text target\n",
              "0  From: lerxst@wam.umd.edu (where's my thing)\\nS...      7\n",
              "1  From: guykuo@carson.u.washington.edu (Guy Kuo)...      4\n",
              "2  From: twillis@ec.ecn.purdue.edu (Thomas E Will...      4\n",
              "3  From: jgreen@amber (Joe Green)\\nSubject: Re: W...      1\n",
              "4  From: jcm@head-cfa.harvard.edu (Jonathan McDow...     14"
            ]
          },
          "metadata": {
            "tags": []
          },
          "execution_count": 270
        }
      ]
    },
    {
      "cell_type": "markdown",
      "metadata": {
        "id": "Hs4osloNhgMj"
      },
      "source": [
        "## **PREPARE DATA**"
      ]
    },
    {
      "cell_type": "code",
      "metadata": {
        "id": "-OvbxHhxhjOo"
      },
      "source": [
        "X = df.drop('text', axis=1)\r\n",
        "y = df['text']\r\n"
      ],
      "execution_count": null,
      "outputs": []
    },
    {
      "cell_type": "code",
      "metadata": {
        "colab": {
          "base_uri": "https://localhost:8080/"
        },
        "id": "JzvYxTeMsRAJ",
        "outputId": "ae7ab634-b48b-4afa-fff4-e5f5c37d30f7"
      },
      "source": [
        "df['text'].unique() "
      ],
      "execution_count": null,
      "outputs": [
        {
          "output_type": "execute_result",
          "data": {
            "text/plain": [
              "array([\"From: lerxst@wam.umd.edu (where's my thing)\\nSubject: WHAT car is this!?\\nNntp-Posting-Host: rac3.wam.umd.edu\\nOrganization: University of Maryland, College Park\\nLines: 15\\n\\n I was wondering if anyone out there could enlighten me on this car I saw\\nthe other day. It was a 2-door sports car, looked to be from the late 60s/\\nearly 70s. It was called a Bricklin. The doors were really small. In addition,\\nthe front bumper was separate from the rest of the body. This is \\nall I know. If anyone can tellme a model name, engine specs, years\\nof production, where this car is made, history, or whatever info you\\nhave on this funky looking car, please e-mail.\\n\\nThanks,\\n- IL\\n   ---- brought to you by your neighborhood Lerxst ----\\n\\n\\n\\n\\n\",\n",
              "       \"From: guykuo@carson.u.washington.edu (Guy Kuo)\\nSubject: SI Clock Poll - Final Call\\nSummary: Final call for SI clock reports\\nKeywords: SI,acceleration,clock,upgrade\\nArticle-I.D.: shelley.1qvfo9INNc3s\\nOrganization: University of Washington\\nLines: 11\\nNNTP-Posting-Host: carson.u.washington.edu\\n\\nA fair number of brave souls who upgraded their SI clock oscillator have\\nshared their experiences for this poll. Please send a brief message detailing\\nyour experiences with the procedure. Top speed attained, CPU rated speed,\\nadd on cards and adapters, heat sinks, hour of usage per day, floppy disk\\nfunctionality with 800 and 1.4 m floppies are especially requested.\\n\\nI will be summarizing in the next two days, so please add to the network\\nknowledge base if you have done the clock upgrade and haven't answered this\\npoll. Thanks.\\n\\nGuy Kuo <guykuo@u.washington.edu>\\n\",\n",
              "       'From: twillis@ec.ecn.purdue.edu (Thomas E Willis)\\nSubject: PB questions...\\nOrganization: Purdue University Engineering Computer Network\\nDistribution: usa\\nLines: 36\\n\\nwell folks, my mac plus finally gave up the ghost this weekend after\\nstarting life as a 512k way back in 1985.  sooo, i\\'m in the market for a\\nnew machine a bit sooner than i intended to be...\\n\\ni\\'m looking into picking up a powerbook 160 or maybe 180 and have a bunch\\nof questions that (hopefully) somebody can answer:\\n\\n* does anybody know any dirt on when the next round of powerbook\\nintroductions are expected?  i\\'d heard the 185c was supposed to make an\\nappearence \"this summer\" but haven\\'t heard anymore on it - and since i\\ndon\\'t have access to macleak, i was wondering if anybody out there had\\nmore info...\\n\\n* has anybody heard rumors about price drops to the powerbook line like the\\nones the duo\\'s just went through recently?\\n\\n* what\\'s the impression of the display on the 180?  i could probably swing\\na 180 if i got the 80Mb disk rather than the 120, but i don\\'t really have\\na feel for how much \"better\" the display is (yea, it looks great in the\\nstore, but is that all \"wow\" or is it really that good?).  could i solicit\\nsome opinions of people who use the 160 and 180 day-to-day on if its worth\\ntaking the disk size and money hit to get the active display?  (i realize\\nthis is a real subjective question, but i\\'ve only played around with the\\nmachines in a computer store breifly and figured the opinions of somebody\\nwho actually uses the machine daily might prove helpful).\\n\\n* how well does hellcats perform?  ;)\\n\\nthanks a bunch in advance for any info - if you could email, i\\'ll post a\\nsummary (news reading time is at a premium with finals just around the\\ncorner... :( )\\n--\\nTom Willis  \\\\  twillis@ecn.purdue.edu    \\\\    Purdue Electrical Engineering\\n---------------------------------------------------------------------------\\n\"Convictions are more dangerous enemies of truth than lies.\"  - F. W.\\nNietzsche\\n',\n",
              "       ...,\n",
              "       'From: westes@netcom.com (Will Estes)\\nSubject: Mounting CPU Cooler in vertical case\\nOrganization: Mail Group\\nX-Newsreader: TIN [version 1.1 PL8]\\nLines: 13\\n\\nI just installed a DX2-66 CPU in a clone motherboard, and tried mounting a CPU \\ncooler on the chip.  After about 1/2 hour, the weight of the cooler was enough \\nto dislodge the CPU from its mount.  It ended up bending a few pins\\non the CPU, but luckily the power was not on yet.  I ended up\\npressing the CPU deeply into its socket and then putting the CPU\\ncooler back on.  So far so good.\\n\\nHave others had this problem?  How do you ensure that the weight of\\nthe CPU fan and heatsink do not eventually work the CPU out of its\\nsocket when mounting the motherboard in a vertical case?\\n\\n-- \\nWill Estes\\t\\tInternet: westes@netcom.com\\n',\n",
              "       \"From: steve@hcrlgw (Steven Collins)\\nSubject: Re: Sphere from 4 points?\\nOrganization: Central Research Lab. Hitachi, Ltd.\\nLines: 27\\nNntp-Posting-Host: hcrlgw\\n\\nIn article <1qkgbuINNs9n@shelley.u.washington.edu> bolson@carson.u.washington.edu (Edward Bolson) writes:\\n>Boy, this will be embarassing if it is trivial or an FAQ:\\n>\\n>Given 4 points (non coplanar), how does one find the sphere, that is,\\n>center and radius, exactly fitting those points?  I know how to do it\\n>for a circle (from 3 points), but do not immediately see a \\n>straightforward way to do it in 3-D.  I have checked some\\n>geometry books, Graphics Gems, and Farin, but am still at a loss?\\n>Please have mercy on me and provide the solution?  \\n\\nWouldn't this require a hyper-sphere.  In 3-space, 4 points over specifies\\na sphere as far as I can see.  Unless that is you can prove that a point\\nexists in 3-space that is equi-distant from the 4 points, and this may not\\nnecessarily happen.\\n\\nCorrect me if I'm wrong (which I quite possibly am!)\\n\\nsteve\\n---\\n\\n\\n\\n-- \\n+---------------------------------------+--------------------------------+\\n| Steven Collins\\t\\t\\t| email: steve@crl.hitachi.co.jp |\\n| Visiting Computer Graphics Researcher\\t| phone: (0423)-23-1111 \\t |\\n| Hitachi Central Research Lab. Tokyo.\\t| fax:   (0423)-27-7742\\t\\t |\\n\",\n",
              "       \"From: gunning@cco.caltech.edu (Kevin J. Gunning)\\nSubject: stolen CBR900RR\\nOrganization: California Institute of Technology, Pasadena\\nLines: 12\\nDistribution: usa\\nNNTP-Posting-Host: alumni.caltech.edu\\nSummary: see above\\n\\nStolen from Pasadena between 4:30 and 6:30 pm on 4/15.\\n\\nBlue and white Honda CBR900RR california plate KG CBR.   Serial number\\nJH2SC281XPM100187, engine number 2101240.\\n\\nNo turn signals or mirrors, lights taped over for track riders session\\nat Willow Springs tomorrow.  Guess I'll miss it.  :-(((\\n\\nHelp me find my baby!!!\\n\\nkjg\\n\\n\"],\n",
              "      dtype=object)"
            ]
          },
          "metadata": {
            "tags": []
          },
          "execution_count": 272
        }
      ]
    },
    {
      "cell_type": "code",
      "metadata": {
        "id": "IedCluKlsZZY"
      },
      "source": [
        ""
      ],
      "execution_count": null,
      "outputs": []
    },
    {
      "cell_type": "markdown",
      "metadata": {
        "id": "Xe6kI81iiEyL"
      },
      "source": [
        "## **LABEL ENCODING**"
      ]
    },
    {
      "cell_type": "code",
      "metadata": {
        "id": "keXWviEWn8cO"
      },
      "source": [
        "label_encoder = preprocessing.LabelEncoder() "
      ],
      "execution_count": null,
      "outputs": []
    },
    {
      "cell_type": "code",
      "metadata": {
        "id": "k7GnvBQ9sr7d"
      },
      "source": [
        "df['text']= label_encoder.fit_transform(df['text']) "
      ],
      "execution_count": null,
      "outputs": []
    },
    {
      "cell_type": "code",
      "metadata": {
        "colab": {
          "base_uri": "https://localhost:8080/"
        },
        "id": "pY3T3TRDs1a0",
        "outputId": "336bff03-28ee-43a8-fb14-1b1a13bbbc39"
      },
      "source": [
        "df['text'].unique() "
      ],
      "execution_count": null,
      "outputs": [
        {
          "output_type": "execute_result",
          "data": {
            "text/plain": [
              "array([ 6440,  4555, 10229, ..., 10545,  9643,  4536])"
            ]
          },
          "metadata": {
            "tags": []
          },
          "execution_count": 275
        }
      ]
    },
    {
      "cell_type": "markdown",
      "metadata": {
        "id": "g9i2vFCxtULb"
      },
      "source": [
        "## **TRAIN DATA**"
      ]
    },
    {
      "cell_type": "code",
      "metadata": {
        "id": "Ggxus0CKtYpW"
      },
      "source": [
        "X_train, X_test, y_train, y_test = train_test_split(X, y, test_size=0.20)"
      ],
      "execution_count": null,
      "outputs": []
    },
    {
      "cell_type": "code",
      "metadata": {
        "colab": {
          "base_uri": "https://localhost:8080/"
        },
        "id": "pz4vTVZ_tcvG",
        "outputId": "f5fe24ff-34d5-4960-fd75-c7f4949ae168"
      },
      "source": [
        "classifier = DecisionTreeClassifier()\r\n",
        "classifier.fit(X_train, y_train)"
      ],
      "execution_count": null,
      "outputs": [
        {
          "output_type": "execute_result",
          "data": {
            "text/plain": [
              "DecisionTreeClassifier(ccp_alpha=0.0, class_weight=None, criterion='gini',\n",
              "                       max_depth=None, max_features=None, max_leaf_nodes=None,\n",
              "                       min_impurity_decrease=0.0, min_impurity_split=None,\n",
              "                       min_samples_leaf=1, min_samples_split=2,\n",
              "                       min_weight_fraction_leaf=0.0, presort='deprecated',\n",
              "                       random_state=None, splitter='best')"
            ]
          },
          "metadata": {
            "tags": []
          },
          "execution_count": 277
        }
      ]
    },
    {
      "cell_type": "markdown",
      "metadata": {
        "id": "xZT6vdiGtnMt"
      },
      "source": [
        "# **PREDICT DATA**"
      ]
    },
    {
      "cell_type": "code",
      "metadata": {
        "id": "uwBbebEhtta1"
      },
      "source": [
        "y_pred = classifier.predict(X_test)"
      ],
      "execution_count": null,
      "outputs": []
    },
    {
      "cell_type": "markdown",
      "metadata": {
        "id": "c1ij3ks2uPyJ"
      },
      "source": [
        "## **EVALUATE THE ALGORITHM**"
      ]
    },
    {
      "cell_type": "code",
      "metadata": {
        "colab": {
          "base_uri": "https://localhost:8080/"
        },
        "id": "UGuvwB02t4vx",
        "outputId": "09fcaa36-ed0a-4a56-afbb-9233a80ea0d1"
      },
      "source": [
        "print(confusion_matrix(y_test, y_pred))\r\n",
        "print(classification_report(y_test, y_pred))"
      ],
      "execution_count": null,
      "outputs": [
        {
          "output_type": "stream",
          "text": [
            "[[0 1 0 ... 0 0 0]\n",
            " [0 0 0 ... 0 0 0]\n",
            " [0 0 0 ... 0 0 0]\n",
            " ...\n",
            " [0 0 0 ... 0 0 0]\n",
            " [0 0 0 ... 0 0 0]\n",
            " [0 0 0 ... 0 0 0]]\n"
          ],
          "name": "stdout"
        },
        {
          "output_type": "stream",
          "text": [
            "/usr/local/lib/python3.6/dist-packages/sklearn/metrics/_classification.py:1272: UndefinedMetricWarning: Precision and F-score are ill-defined and being set to 0.0 in labels with no predicted samples. Use `zero_division` parameter to control this behavior.\n",
            "  _warn_prf(average, modifier, msg_start, len(result))\n",
            "/usr/local/lib/python3.6/dist-packages/sklearn/metrics/_classification.py:1272: UndefinedMetricWarning: Recall and F-score are ill-defined and being set to 0.0 in labels with no true samples. Use `zero_division` parameter to control this behavior.\n",
            "  _warn_prf(average, modifier, msg_start, len(result))\n",
            "IOPub data rate exceeded.\n",
            "The notebook server will temporarily stop sending output\n",
            "to the client in order to avoid crashing it.\n",
            "To change this limit, set the config variable\n",
            "`--NotebookApp.iopub_data_rate_limit`.\n",
            "\n",
            "Current values:\n",
            "NotebookApp.iopub_data_rate_limit=1000000.0 (bytes/sec)\n",
            "NotebookApp.rate_limit_window=3.0 (secs)\n",
            "\n"
          ],
          "name": "stderr"
        }
      ]
    }
  ]
}