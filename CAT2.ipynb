{
  "nbformat": 4,
  "nbformat_minor": 0,
  "metadata": {
    "colab": {
      "name": "CAT2.ipynb",
      "provenance": [],
      "collapsed_sections": [],
      "include_colab_link": true
    },
    "kernelspec": {
      "display_name": "Python 3",
      "name": "python3"
    }
  },
  "cells": [
    {
      "cell_type": "markdown",
      "metadata": {
        "id": "view-in-github",
        "colab_type": "text"
      },
      "source": [
        "<a href=\"https://colab.research.google.com/github/sofiaIman/AI/blob/main/CAT2.ipynb\" target=\"_parent\"><img src=\"https://colab.research.google.com/assets/colab-badge.svg\" alt=\"Open In Colab\"/></a>"
      ]
    },
    {
      "cell_type": "markdown",
      "metadata": {
        "id": "4LDWih7kfYe6"
      },
      "source": [
        "\r\n",
        "# Importing the required libraries \r\n"
      ]
    },
    {
      "cell_type": "code",
      "metadata": {
        "id": "FTFsKLPheIhd"
      },
      "source": [
        "import pandas as pd\r\n",
        "from sklearn.metrics import confusion_matrix,f1_score,accuracy_score,precision_score,recall_score\r\n",
        "from sklearn.datasets import fetch_20newsgroups\r\n",
        "from pprint import pprint\r\n",
        "from sklearn.tree import DecisionTreeRegressor\r\n",
        "from sklearn.ensemble import RandomForestRegressor\r\n",
        "from sklearn.model_selection import train_test_split\r\n",
        "from sklearn.feature_extraction.text import TfidfVectorizer\r\n",
        "from sklearn.naive_bayes import MultinomialNB\r\n",
        "from sklearn import metrics\r\n",
        "\r\n",
        "  "
      ],
      "execution_count": 119,
      "outputs": []
    },
    {
      "cell_type": "markdown",
      "metadata": {
        "id": "4m0ttiCXgo38"
      },
      "source": [
        "# Grabbing the dataset"
      ]
    },
    {
      "cell_type": "code",
      "metadata": {
        "id": "FRdKoAvdgq8A"
      },
      "source": [
        "newsgroups_train=fetch_20newsgroups(subset='train')"
      ],
      "execution_count": 120,
      "outputs": []
    },
    {
      "cell_type": "markdown",
      "metadata": {
        "id": "8RjTTjBvkDSh"
      },
      "source": [
        "# Viewing the dataset"
      ]
    },
    {
      "cell_type": "code",
      "metadata": {
        "id": "t_-BrfUokIgS",
        "colab": {
          "base_uri": "https://localhost:8080/"
        },
        "outputId": "348ce2f8-e657-4f22-a063-15b776890239"
      },
      "source": [
        "pprint(list(newsgroups_train.target_names))"
      ],
      "execution_count": 121,
      "outputs": [
        {
          "output_type": "stream",
          "text": [
            "['alt.atheism',\n",
            " 'comp.graphics',\n",
            " 'comp.os.ms-windows.misc',\n",
            " 'comp.sys.ibm.pc.hardware',\n",
            " 'comp.sys.mac.hardware',\n",
            " 'comp.windows.x',\n",
            " 'misc.forsale',\n",
            " 'rec.autos',\n",
            " 'rec.motorcycles',\n",
            " 'rec.sport.baseball',\n",
            " 'rec.sport.hockey',\n",
            " 'sci.crypt',\n",
            " 'sci.electronics',\n",
            " 'sci.med',\n",
            " 'sci.space',\n",
            " 'soc.religion.christian',\n",
            " 'talk.politics.guns',\n",
            " 'talk.politics.mideast',\n",
            " 'talk.politics.misc',\n",
            " 'talk.religion.misc']\n"
          ],
          "name": "stdout"
        }
      ]
    },
    {
      "cell_type": "markdown",
      "metadata": {
        "id": "oINPCn7S-8uH"
      },
      "source": [
        "converting to dataframes"
      ]
    },
    {
      "cell_type": "code",
      "metadata": {
        "id": "kZRViVvt_C61",
        "colab": {
          "base_uri": "https://localhost:8080/",
          "height": 202
        },
        "outputId": "9aa1792d-f200-45cb-fef2-0b6bc6572dda"
      },
      "source": [
        "\r\n",
        "df = pd.DataFrame([newsgroups_train.data, newsgroups_train.target.tolist()]).T\r\n",
        "df.columns = ['text', 'target']\r\n",
        "\r\n",
        "targets = pd.DataFrame( newsgroups_train.target_names)\r\n",
        "targets.columns=['title']\r\n",
        "df.head()"
      ],
      "execution_count": 122,
      "outputs": [
        {
          "output_type": "execute_result",
          "data": {
            "text/html": [
              "<div>\n",
              "<style scoped>\n",
              "    .dataframe tbody tr th:only-of-type {\n",
              "        vertical-align: middle;\n",
              "    }\n",
              "\n",
              "    .dataframe tbody tr th {\n",
              "        vertical-align: top;\n",
              "    }\n",
              "\n",
              "    .dataframe thead th {\n",
              "        text-align: right;\n",
              "    }\n",
              "</style>\n",
              "<table border=\"1\" class=\"dataframe\">\n",
              "  <thead>\n",
              "    <tr style=\"text-align: right;\">\n",
              "      <th></th>\n",
              "      <th>text</th>\n",
              "      <th>target</th>\n",
              "    </tr>\n",
              "  </thead>\n",
              "  <tbody>\n",
              "    <tr>\n",
              "      <th>0</th>\n",
              "      <td>From: lerxst@wam.umd.edu (where's my thing)\\nS...</td>\n",
              "      <td>7</td>\n",
              "    </tr>\n",
              "    <tr>\n",
              "      <th>1</th>\n",
              "      <td>From: guykuo@carson.u.washington.edu (Guy Kuo)...</td>\n",
              "      <td>4</td>\n",
              "    </tr>\n",
              "    <tr>\n",
              "      <th>2</th>\n",
              "      <td>From: twillis@ec.ecn.purdue.edu (Thomas E Will...</td>\n",
              "      <td>4</td>\n",
              "    </tr>\n",
              "    <tr>\n",
              "      <th>3</th>\n",
              "      <td>From: jgreen@amber (Joe Green)\\nSubject: Re: W...</td>\n",
              "      <td>1</td>\n",
              "    </tr>\n",
              "    <tr>\n",
              "      <th>4</th>\n",
              "      <td>From: jcm@head-cfa.harvard.edu (Jonathan McDow...</td>\n",
              "      <td>14</td>\n",
              "    </tr>\n",
              "  </tbody>\n",
              "</table>\n",
              "</div>"
            ],
            "text/plain": [
              "                                                text target\n",
              "0  From: lerxst@wam.umd.edu (where's my thing)\\nS...      7\n",
              "1  From: guykuo@carson.u.washington.edu (Guy Kuo)...      4\n",
              "2  From: twillis@ec.ecn.purdue.edu (Thomas E Will...      4\n",
              "3  From: jgreen@amber (Joe Green)\\nSubject: Re: W...      1\n",
              "4  From: jcm@head-cfa.harvard.edu (Jonathan McDow...     14"
            ]
          },
          "metadata": {
            "tags": []
          },
          "execution_count": 122
        }
      ]
    },
    {
      "cell_type": "code",
      "metadata": {
        "id": "i-AGLNmt7Qr9"
      },
      "source": [
        ""
      ],
      "execution_count": 122,
      "outputs": []
    },
    {
      "cell_type": "markdown",
      "metadata": {
        "id": "yURbVagzk_mQ"
      },
      "source": [
        "# Training the model"
      ]
    },
    {
      "cell_type": "code",
      "metadata": {
        "id": "l_QUOSV_w3tg"
      },
      "source": [
        " cats = ['alt.atheism', 'sci.space']"
      ],
      "execution_count": 123,
      "outputs": []
    },
    {
      "cell_type": "code",
      "metadata": {
        "id": "nW51XZBh3U2C"
      },
      "source": [
        "newsgroups_train = fetch_20newsgroups(subset='train', categories=cats)\r\n"
      ],
      "execution_count": 124,
      "outputs": []
    },
    {
      "cell_type": "code",
      "metadata": {
        "colab": {
          "base_uri": "https://localhost:8080/"
        },
        "id": "yCBN64zY_j3i",
        "outputId": "79658bac-2507-4bfc-8d44-13c4edadf022"
      },
      "source": [
        "list(newsgroups_train.target_names)"
      ],
      "execution_count": 125,
      "outputs": [
        {
          "output_type": "execute_result",
          "data": {
            "text/plain": [
              "['alt.atheism', 'sci.space']"
            ]
          },
          "metadata": {
            "tags": []
          },
          "execution_count": 125
        }
      ]
    },
    {
      "cell_type": "code",
      "metadata": {
        "colab": {
          "base_uri": "https://localhost:8080/"
        },
        "id": "E7QWhCj5_lpA",
        "outputId": "66e4d77b-2e67-4a98-d34f-566114b5771f"
      },
      "source": [
        "newsgroups_train.filenames.shape"
      ],
      "execution_count": 126,
      "outputs": [
        {
          "output_type": "execute_result",
          "data": {
            "text/plain": [
              "(1073,)"
            ]
          },
          "metadata": {
            "tags": []
          },
          "execution_count": 126
        }
      ]
    },
    {
      "cell_type": "code",
      "metadata": {
        "colab": {
          "base_uri": "https://localhost:8080/"
        },
        "id": "dkEVk2Ws_pY8",
        "outputId": "595ede0d-6f3b-4a8e-f4de-ca9ec7aa6441"
      },
      "source": [
        "newsgroups_train.target.shape"
      ],
      "execution_count": 127,
      "outputs": [
        {
          "output_type": "execute_result",
          "data": {
            "text/plain": [
              "(1073,)"
            ]
          },
          "metadata": {
            "tags": []
          },
          "execution_count": 127
        }
      ]
    },
    {
      "cell_type": "code",
      "metadata": {
        "colab": {
          "base_uri": "https://localhost:8080/"
        },
        "id": "FhJy8oDC_uOm",
        "outputId": "188c5453-b711-40ac-fe37-de5f1c365fa2"
      },
      "source": [
        "newsgroups_train.target[:10]"
      ],
      "execution_count": 128,
      "outputs": [
        {
          "output_type": "execute_result",
          "data": {
            "text/plain": [
              "array([0, 1, 1, 1, 0, 1, 1, 0, 0, 0])"
            ]
          },
          "metadata": {
            "tags": []
          },
          "execution_count": 128
        }
      ]
    },
    {
      "cell_type": "code",
      "metadata": {
        "id": "6Z_oqMyQDSYe"
      },
      "source": [
        "categories = ['alt.atheism', 'talk.religion.misc',\r\n",
        "...               'comp.graphics', 'sci.space']"
      ],
      "execution_count": 129,
      "outputs": []
    },
    {
      "cell_type": "code",
      "metadata": {
        "id": "NLJ1NygnDT8k"
      },
      "source": [
        "newsgroups_train = fetch_20newsgroups(subset='train',\r\n",
        "...                                       categories=categories)"
      ],
      "execution_count": 130,
      "outputs": []
    },
    {
      "cell_type": "code",
      "metadata": {
        "colab": {
          "base_uri": "https://localhost:8080/"
        },
        "id": "31F0CbG8DZv4",
        "outputId": "7488b82d-1bca-49a4-839d-cfee2ff5de6e"
      },
      "source": [
        "vectorizer = TfidfVectorizer()\r\n",
        ">>> vectors = vectorizer.fit_transform(newsgroups_train.data)\r\n",
        ">>> vectors.shape"
      ],
      "execution_count": 131,
      "outputs": [
        {
          "output_type": "execute_result",
          "data": {
            "text/plain": [
              "(2034, 34118)"
            ]
          },
          "metadata": {
            "tags": []
          },
          "execution_count": 131
        }
      ]
    },
    {
      "cell_type": "code",
      "metadata": {
        "colab": {
          "base_uri": "https://localhost:8080/"
        },
        "id": "AxQrxebQDhS8",
        "outputId": "37f82727-d427-42d0-e925-f87d090dc0e9"
      },
      "source": [
        "vectors.nnz / float(vectors.shape[0])"
      ],
      "execution_count": 132,
      "outputs": [
        {
          "output_type": "execute_result",
          "data": {
            "text/plain": [
              "159.0132743362832"
            ]
          },
          "metadata": {
            "tags": []
          },
          "execution_count": 132
        }
      ]
    },
    {
      "cell_type": "code",
      "metadata": {
        "id": "inzk3I0BDixC"
      },
      "source": [
        "newsgroups_test = fetch_20newsgroups(subset='test',\r\n",
        "...                                      categories=categories)\r\n"
      ],
      "execution_count": 133,
      "outputs": []
    },
    {
      "cell_type": "code",
      "metadata": {
        "id": "-EGziDV0D5Uy"
      },
      "source": [
        "vectors_test = vectorizer.transform(newsgroups_test.data)"
      ],
      "execution_count": 134,
      "outputs": []
    },
    {
      "cell_type": "code",
      "metadata": {
        "id": "WeyttOQXD-TF"
      },
      "source": [
        "clf = MultinomialNB(alpha=.01)"
      ],
      "execution_count": 135,
      "outputs": []
    },
    {
      "cell_type": "code",
      "metadata": {
        "colab": {
          "base_uri": "https://localhost:8080/"
        },
        "id": "2zfXax88EB2m",
        "outputId": "b7f6c9b7-f325-4cdc-e4c5-c9f4bcb56b4b"
      },
      "source": [
        "clf.fit(vectors, newsgroups_train.target)"
      ],
      "execution_count": 136,
      "outputs": [
        {
          "output_type": "execute_result",
          "data": {
            "text/plain": [
              "MultinomialNB(alpha=0.01, class_prior=None, fit_prior=True)"
            ]
          },
          "metadata": {
            "tags": []
          },
          "execution_count": 136
        }
      ]
    },
    {
      "cell_type": "code",
      "metadata": {
        "id": "V8qRXdqzEFIr"
      },
      "source": [
        "pred = clf.predict(vectors_test)"
      ],
      "execution_count": 137,
      "outputs": []
    },
    {
      "cell_type": "code",
      "metadata": {
        "colab": {
          "base_uri": "https://localhost:8080/"
        },
        "id": "JMyQP466EJYz",
        "outputId": "fb2874d3-1c65-460b-ea58-1cdc4dd90fb2"
      },
      "source": [
        "metrics.f1_score(newsgroups_test.target, pred, average='macro')"
      ],
      "execution_count": 138,
      "outputs": [
        {
          "output_type": "execute_result",
          "data": {
            "text/plain": [
              "0.8821359240272957"
            ]
          },
          "metadata": {
            "tags": []
          },
          "execution_count": 138
        }
      ]
    }
  ]
}